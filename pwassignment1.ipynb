{
  "nbformat": 4,
  "nbformat_minor": 0,
  "metadata": {
    "colab": {
      "provenance": []
    },
    "kernelspec": {
      "name": "python3",
      "display_name": "Python 3"
    },
    "language_info": {
      "name": "python"
    }
  },
  "cells": [
    {
      "cell_type": "markdown",
      "source": [
        "THEORETICAL QUESTIONS.\n",
        "\n",
        "1. What is Python, and why is it popular?\n",
        " Python is a high-level, interpreted programming language known for its simplicity and readability. It's popular because it has an easy-to-learn syntax, easily understandable, a vast ecosystem of libraries, strong community support, and is widely used in web development, data science, AI/Ml, and automation.\n",
        "\n",
        "2. What is an interpreter in Python?\n",
        "An interpreter is a program that executes Python code line by line, translating it into machine-readable instructions. This allows for dynamic execution but can be slower than compiled languages.\n",
        "\n",
        "3. What are pre-defined keywords in Python?\n",
        "Pre-defined keywords are reserved words in Python that have a specific meaning and cannot be used for\n",
        "anything else (e.g., if, else, while, def, import).\n",
        "\n",
        "4. Can keywords be used as variable names?\n",
        "No, keywords cannot be used as variable names because they are reserved for specific functionalities in the language.\n",
        "\n",
        "5. What is mutability in Python?\n",
        "Mutability refers to whether an object's value can be changed after it's created. Mutable objects can be modified, while immutable objects cannot be modified after creation.\n",
        "\n",
        "6. Why are lists mutable, but tuples are immutable?\n",
        "Lists are mutable because they allow changes like adding, removing, or modifying elements. Tuples, on the other hand, are immutable to ensure data integrity and performance and are best to work with working with fixed collections of data.\n",
        "\n",
        "7. What is the difference between == and is operators in Python?\n",
        "•\t== checks if two values are equal.\n",
        "•\tIs keyword checks if two variables refer to the same memory location (i.e., they are the exact same object).\n",
        "\n",
        "8. What are logical operators in Python?\n",
        "Logical operators are used to combine conditional statements:\n",
        "•\tand (True if both conditions are True)\n",
        "•\tor (True if at least one condition is True)\n",
        "•\tnot (Negates the condition)\n",
        "\n",
        "9. What is type casting in Python?\n",
        "Type casting converts a variable from one data type to another, such as from a string to an integer (int(\"5\")).\n",
        "\n",
        "10. What is the difference between implicit and explicit type casting?\n",
        "•\tImplicit Casting: Python automatically converts data types when safe (e.g., int to float).\n",
        "•\tExplicit Casting: The user manually converts a type using functions like int(), float(), str().\n",
        "\n",
        "11. What is the purpose of conditional statements in Python?\n",
        "Conditional statements (if, elif, else) control the flow of execution by allowing decisions based on conditions. They are suitable when there is condition to check and work with, a structured pair of if, elif, else is widely used to check multiple conditions.\n",
        "\n",
        "12. How does the elif statement work?\n",
        "elif (short for “else if”) allows checking multiple conditions. It is used between if and else to test additional conditions when the previous ones fail.\n",
        "\n",
        "13. What is the difference between for and while loops?\n",
        "•\tfor loops are used when the number of iterations is known, most commonly used loop, we have to provide a start value , number of iterations and an end value.  \n",
        "•\twhile loops are used when the number of iterations depends on a condition, used when the number of iteration is not given or known.\n",
        "\n",
        "14. Describe a scenario where a while loop is more suitable than a for loop.\n",
        "A while loop is better when you don’t know how many iterations will be needed. For example, reading user input until they enter a valid response (while input != \"quit\":).\n"
      ],
      "metadata": {
        "id": "BxWstaUp5sa0"
      }
    },
    {
      "cell_type": "code",
      "source": [
        "''' 1. Print \"Hello, World!\" '''\n",
        "\n",
        "print(\"Hello, World!\")\n"
      ],
      "metadata": {
        "colab": {
          "base_uri": "https://localhost:8080/",
          "height": 0
        },
        "id": "N8I2MAFk6R8t",
        "outputId": "5a12c919-dd40-4f40-ab6e-61fba745789b"
      },
      "execution_count": 2,
      "outputs": [
        {
          "output_type": "stream",
          "name": "stdout",
          "text": [
            "Hello, World!\n"
          ]
        }
      ]
    },
    {
      "cell_type": "code",
      "source": [
        "''' 2. Display your name and age '''\n",
        "\n",
        "\n",
        "name = \"Vishal Kumar\"\n",
        "age = 22\n",
        "print(f\"My name is {name} and I am {age} years old.\")\n"
      ],
      "metadata": {
        "colab": {
          "base_uri": "https://localhost:8080/",
          "height": 0
        },
        "id": "HAL_8-6m6nSb",
        "outputId": "97537200-c15e-40e8-fd16-6138dba4c7b7"
      },
      "execution_count": 3,
      "outputs": [
        {
          "output_type": "stream",
          "name": "stdout",
          "text": [
            "My name is Vishal Kumar and I am 22 years old.\n"
          ]
        }
      ]
    },
    {
      "cell_type": "code",
      "source": [
        "''' 3. Print all pre-defined keywords using the keyword library'''\n",
        "\n",
        "\n",
        "import keyword\n",
        "print(keyword.kwlist)\n"
      ],
      "metadata": {
        "colab": {
          "base_uri": "https://localhost:8080/",
          "height": 0
        },
        "id": "inVmWxMK61W3",
        "outputId": "911f69c7-1a28-4b52-f7e0-2e71764b3e42"
      },
      "execution_count": 5,
      "outputs": [
        {
          "output_type": "stream",
          "name": "stdout",
          "text": [
            "['False', 'None', 'True', 'and', 'as', 'assert', 'async', 'await', 'break', 'class', 'continue', 'def', 'del', 'elif', 'else', 'except', 'finally', 'for', 'from', 'global', 'if', 'import', 'in', 'is', 'lambda', 'nonlocal', 'not', 'or', 'pass', 'raise', 'return', 'try', 'while', 'with', 'yield']\n"
          ]
        }
      ]
    },
    {
      "cell_type": "code",
      "source": [
        "''' 4. Check if a given word is a Python keyword '''\n",
        "\n",
        "\n",
        "import keyword\n",
        "\n",
        "word = input(\"Enter a word: \")\n",
        "if keyword.iskeyword(word):\n",
        "    print(f\"{word} is a Python keyword.\")\n",
        "else:\n",
        "    print(f\"{word} is not a Python keyword.\")\n"
      ],
      "metadata": {
        "id": "M1e8dg6k6_E9"
      },
      "execution_count": null,
      "outputs": []
    },
    {
      "cell_type": "code",
      "source": [
        "''' 5. Demonstrate mutable and immutable arguments '''\n",
        "\n",
        "\n",
        "def mutable_vs_immutable(num, num_list):\n",
        "    num += 1  # Immutable (integers)\n",
        "    num_list.append(100)  # Mutable (list)\n",
        "    print(\"Inside function:\", num, num_list)\n",
        "\n",
        "x = 10\n",
        "y = [1, 2, 3]\n",
        "mutable_vs_immutable(x, y)\n",
        "print(\"Outside function:\", x, y)\n"
      ],
      "metadata": {
        "colab": {
          "base_uri": "https://localhost:8080/",
          "height": 0
        },
        "id": "e4Z1muyo7J6x",
        "outputId": "120c87ea-159f-4653-d2bc-eed7cbde6b39"
      },
      "execution_count": 6,
      "outputs": [
        {
          "output_type": "stream",
          "name": "stdout",
          "text": [
            "Inside function: 11 [1, 2, 3, 100]\n",
            "Outside function: 10 [1, 2, 3, 100]\n"
          ]
        }
      ]
    },
    {
      "cell_type": "code",
      "source": [
        "''' 6. Perform basic arithmetic operations '''\n",
        "\n",
        "\n",
        "a = float(input(\"Enter first number: \"))\n",
        "b = float(input(\"Enter second number: \"))\n",
        "\n",
        "print(\"Sum:\", a + b)\n",
        "print(\"Difference:\", a - b)\n",
        "print(\"Product:\", a * b)\n",
        "print(\"Quotient:\", a / b if b != 0 else \"Cannot divide by zero\")\n",
        "print(\"Modulus:\", a % b)\n"
      ],
      "metadata": {
        "colab": {
          "base_uri": "https://localhost:8080/",
          "height": 0
        },
        "id": "W88G4cQw7QUM",
        "outputId": "20f31bcf-1172-4881-9e68-ede715a0e41e"
      },
      "execution_count": 7,
      "outputs": [
        {
          "output_type": "stream",
          "name": "stdout",
          "text": [
            "Enter first number: 64\n",
            "Enter second number: 8\n",
            "Sum: 72.0\n",
            "Difference: 56.0\n",
            "Product: 512.0\n",
            "Quotient: 8.0\n",
            "Modulus: 0.0\n"
          ]
        }
      ]
    },
    {
      "cell_type": "code",
      "source": [
        "''' 7. Demonstrate logical operators '''\n",
        "\n",
        "\n",
        "a = True\n",
        "b = False\n",
        "print(\"a and b:\", a and b)\n",
        "print(\"a or b:\", a or b)\n",
        "print(\"not a:\", not a)\n"
      ],
      "metadata": {
        "colab": {
          "base_uri": "https://localhost:8080/",
          "height": 0
        },
        "id": "IUvviRSQ7dvB",
        "outputId": "3d28aca6-1438-44dd-ceee-cd70a2a7230b"
      },
      "execution_count": 8,
      "outputs": [
        {
          "output_type": "stream",
          "name": "stdout",
          "text": [
            "a and b: False\n",
            "a or b: True\n",
            "not a: False\n"
          ]
        }
      ]
    },
    {
      "cell_type": "code",
      "source": [
        "''' 8. List vs. Tuple mutability'''\n",
        "\n",
        "\n",
        "my_list = [1, 2, 3]\n",
        "my_tuple = (1, 2, 3)\n",
        "\n",
        "\n",
        "my_list[1] = 99\n",
        "print(\"Modified list:\", my_list)\n",
        "\n",
        "# my_tuple[1] = 99  # Uncommenting this line will cause an error\n"
      ],
      "metadata": {
        "id": "c34yh_tH7kEE"
      },
      "execution_count": null,
      "outputs": []
    },
    {
      "cell_type": "code",
      "source": [
        "''' 9. Convert user input to different data types '''\n",
        "\n",
        "\n",
        "user_input = input(\"Enter a value: \")\n",
        "print(\"As Integer:\", int(user_input))\n",
        "print(\"As Float:\", float(user_input))\n",
        "print(\"As Boolean:\", bool(user_input))\n"
      ],
      "metadata": {
        "id": "4BpcAcv27pVF"
      },
      "execution_count": null,
      "outputs": []
    },
    {
      "cell_type": "code",
      "source": [
        "''' 10. Type casting with list elements '''\n",
        "\n",
        "\n",
        "num_list = [\"1\", \"2\", \"3\"]\n",
        "int_list = list(map(int, num_list))\n",
        "print(\"Original list:\", num_list)\n",
        "print(\"Converted to integers:\", int_list)\n"
      ],
      "metadata": {
        "id": "a4MuzLQC7pdy"
      },
      "execution_count": null,
      "outputs": []
    },
    {
      "cell_type": "code",
      "source": [
        "''' 11. Check if a number is positive, negative, or zero '''\n",
        "\n",
        "num = float(input(\"Enter a number: \"))\n",
        "if num > 0:\n",
        "    print(\"Positive number\")\n",
        "elif num < 0:\n",
        "    print(\"Negative number\")\n",
        "else:\n",
        "    print(\"Zero\")\n"
      ],
      "metadata": {
        "id": "L17MGbT-7pnN"
      },
      "execution_count": null,
      "outputs": []
    },
    {
      "cell_type": "code",
      "source": [
        "''' 12. Print numbers from 1 to 10 using a for loop '''\n",
        "\n",
        "\n",
        "for i in range(1, 11):\n",
        "    print(i)\n"
      ],
      "metadata": {
        "id": "qRcHV-Rq7pvG"
      },
      "execution_count": null,
      "outputs": []
    },
    {
      "cell_type": "code",
      "source": [
        "''' 13. Find the sum of all even numbers between 1 and 50'''\n",
        "\n",
        "\n",
        "sum_even = sum(i for i in range(1, 51) if i % 2 == 0)\n",
        "print(\"Sum of even numbers:\", sum_even)\n"
      ],
      "metadata": {
        "id": "L9BcBC_k8A1J"
      },
      "execution_count": null,
      "outputs": []
    },
    {
      "cell_type": "code",
      "source": [
        "''' 14. Reverse a string using a while loop '''\n",
        "\n",
        "\n",
        "s = input(\"Enter a string: \")\n",
        "reversed_s = \"\"\n",
        "i = len(s) - 1\n",
        "\n",
        "while i >= 0:\n",
        "    reversed_s += s[i]\n",
        "    i -= 1\n",
        "\n",
        "print(\"Reversed string:\", reversed_s)\n"
      ],
      "metadata": {
        "id": "Rb10efh28A9T"
      },
      "execution_count": null,
      "outputs": []
    },
    {
      "cell_type": "code",
      "source": [
        "''' 15. Calculate the factorial of a number using a while loop '''\n",
        "\n",
        "num = int(input(\"Enter a number: \"))\n",
        "factorial = 1\n",
        "i = num\n",
        "\n",
        "while i > 0:\n",
        "    factorial *= i\n",
        "    i -= 1\n",
        "\n",
        "print(f\"Factorial of {num} is {factorial}\")\n",
        "\n"
      ],
      "metadata": {
        "id": "XaZDjnkO8JkI"
      },
      "execution_count": null,
      "outputs": []
    }
  ]
}